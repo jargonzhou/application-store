{
 "cells": [
  {
   "cell_type": "code",
   "execution_count": 5,
   "metadata": {},
   "outputs": [],
   "source": [
    "# !pip install elasticsearch7"
   ]
  },
  {
   "cell_type": "markdown",
   "metadata": {},
   "source": [
    "# Python Client\n",
    "\n",
    "- https://elasticsearch-py.readthedocs.io/en/latest/"
   ]
  },
  {
   "cell_type": "code",
   "execution_count": 4,
   "metadata": {},
   "outputs": [
    {
     "name": "stdout",
     "output_type": "stream",
     "text": [
      "{'cluster_name': 'es-cluster',\n",
      " 'cluster_uuid': 'OyYooDV_RrWxLxSvpxmoLw',\n",
      " 'name': 'es-node',\n",
      " 'tagline': 'You Know, for Search',\n",
      " 'version': {'build_date': '2023-06-23T05:33:12.261262042Z',\n",
      "             'build_flavor': 'default',\n",
      "             'build_hash': 'eeedb98c60326ea3d46caef960fb4c77958fb885',\n",
      "             'build_snapshot': False,\n",
      "             'build_type': 'docker',\n",
      "             'lucene_version': '8.11.1',\n",
      "             'minimum_index_compatibility_version': '6.0.0-beta1',\n",
      "             'minimum_wire_compatibility_version': '6.8.0',\n",
      "             'number': '7.17.11'}}\n"
     ]
    },
    {
     "data": {
      "text/html": [
       "<div>\n",
       "<style scoped>\n",
       "    .dataframe tbody tr th:only-of-type {\n",
       "        vertical-align: middle;\n",
       "    }\n",
       "\n",
       "    .dataframe tbody tr th {\n",
       "        vertical-align: top;\n",
       "    }\n",
       "\n",
       "    .dataframe thead th {\n",
       "        text-align: right;\n",
       "    }\n",
       "</style>\n",
       "<table border=\"1\" class=\"dataframe\">\n",
       "  <thead>\n",
       "    <tr style=\"text-align: right;\">\n",
       "      <th></th>\n",
       "      <th>name</th>\n",
       "      <th>cluster_name</th>\n",
       "      <th>cluster_uuid</th>\n",
       "      <th>tagline</th>\n",
       "      <th>version.number</th>\n",
       "      <th>version.build_flavor</th>\n",
       "      <th>version.build_type</th>\n",
       "      <th>version.build_hash</th>\n",
       "      <th>version.build_date</th>\n",
       "      <th>version.build_snapshot</th>\n",
       "      <th>version.lucene_version</th>\n",
       "      <th>version.minimum_wire_compatibility_version</th>\n",
       "      <th>version.minimum_index_compatibility_version</th>\n",
       "    </tr>\n",
       "  </thead>\n",
       "  <tbody>\n",
       "    <tr>\n",
       "      <th>0</th>\n",
       "      <td>es-node</td>\n",
       "      <td>es-cluster</td>\n",
       "      <td>OyYooDV_RrWxLxSvpxmoLw</td>\n",
       "      <td>You Know, for Search</td>\n",
       "      <td>7.17.11</td>\n",
       "      <td>default</td>\n",
       "      <td>docker</td>\n",
       "      <td>eeedb98c60326ea3d46caef960fb4c77958fb885</td>\n",
       "      <td>2023-06-23T05:33:12.261262042Z</td>\n",
       "      <td>False</td>\n",
       "      <td>8.11.1</td>\n",
       "      <td>6.8.0</td>\n",
       "      <td>6.0.0-beta1</td>\n",
       "    </tr>\n",
       "  </tbody>\n",
       "</table>\n",
       "</div>"
      ],
      "text/plain": [
       "      name cluster_name            cluster_uuid               tagline  \\\n",
       "0  es-node   es-cluster  OyYooDV_RrWxLxSvpxmoLw  You Know, for Search   \n",
       "\n",
       "  version.number version.build_flavor version.build_type  \\\n",
       "0        7.17.11              default             docker   \n",
       "\n",
       "                         version.build_hash              version.build_date  \\\n",
       "0  eeedb98c60326ea3d46caef960fb4c77958fb885  2023-06-23T05:33:12.261262042Z   \n",
       "\n",
       "   version.build_snapshot version.lucene_version  \\\n",
       "0                   False                 8.11.1   \n",
       "\n",
       "  version.minimum_wire_compatibility_version  \\\n",
       "0                                      6.8.0   \n",
       "\n",
       "  version.minimum_index_compatibility_version  \n",
       "0                                 6.0.0-beta1  "
      ]
     },
     "execution_count": 4,
     "metadata": {},
     "output_type": "execute_result"
    }
   ],
   "source": [
    "from elasticsearch7 import Elasticsearch\n",
    "import pprint\n",
    "import pandas as pd\n",
    "import json\n",
    "\n",
    "HOST='localhost'\n",
    "URL_PREFIX = 'http://{host}:9200'.format(host=HOST)\n",
    "# Kibana: http://localhost:5601/app/management/security/api_keys/\n",
    "API_KEY = 'ank1Q0xKRUJCa1JiYXI5Y1V2ZXU6S2MzQ0JPZVVRYW1abGtwQzVGaWhSZw=='\n",
    "\n",
    "client = Elasticsearch(hosts=URL_PREFIX, api_key=API_KEY)\n",
    "resp = client.info()\n",
    "pprint.pprint(resp)\n",
    "pd.json_normalize(resp)"
   ]
  },
  {
   "cell_type": "markdown",
   "metadata": {},
   "source": [
    "# Local Maven Repository"
   ]
  },
  {
   "cell_type": "markdown",
   "metadata": {},
   "source": [
    "## Read Respository"
   ]
  },
  {
   "cell_type": "code",
   "execution_count": 2,
   "metadata": {},
   "outputs": [
    {
     "name": "stdout",
     "output_type": "stream",
     "text": [
      "2592\n"
     ]
    },
    {
     "data": {
      "text/html": [
       "<div>\n",
       "<style scoped>\n",
       "    .dataframe tbody tr th:only-of-type {\n",
       "        vertical-align: middle;\n",
       "    }\n",
       "\n",
       "    .dataframe tbody tr th {\n",
       "        vertical-align: top;\n",
       "    }\n",
       "\n",
       "    .dataframe thead th {\n",
       "        text-align: right;\n",
       "    }\n",
       "</style>\n",
       "<table border=\"1\" class=\"dataframe\">\n",
       "  <thead>\n",
       "    <tr style=\"text-align: right;\">\n",
       "      <th></th>\n",
       "      <th>group</th>\n",
       "      <th>artifact</th>\n",
       "      <th>version</th>\n",
       "      <th>size</th>\n",
       "      <th>ctime</th>\n",
       "      <th>jar</th>\n",
       "    </tr>\n",
       "  </thead>\n",
       "  <tbody>\n",
       "    <tr>\n",
       "      <th>1334</th>\n",
       "      <td>org.apache.maven.plugins</td>\n",
       "      <td>maven-clean-plugin</td>\n",
       "      <td>3.2.0</td>\n",
       "      <td>35678</td>\n",
       "      <td>2024-03-07 12:43:26.969265</td>\n",
       "      <td>maven-clean-plugin-3.2.0.jar</td>\n",
       "    </tr>\n",
       "    <tr>\n",
       "      <th>1416</th>\n",
       "      <td>org.apache.maven.shared</td>\n",
       "      <td>maven-shared-utils</td>\n",
       "      <td>3.3.4</td>\n",
       "      <td>153143</td>\n",
       "      <td>2024-03-07 12:43:36.989123</td>\n",
       "      <td>maven-shared-utils-3.3.4.jar</td>\n",
       "    </tr>\n",
       "    <tr>\n",
       "      <th>500</th>\n",
       "      <td>commons-io</td>\n",
       "      <td>commons-io</td>\n",
       "      <td>2.6</td>\n",
       "      <td>214788</td>\n",
       "      <td>2024-03-07 12:43:42.467580</td>\n",
       "      <td>commons-io-2.6.jar</td>\n",
       "    </tr>\n",
       "    <tr>\n",
       "      <th>1355</th>\n",
       "      <td>org.apache.maven.plugins</td>\n",
       "      <td>maven-resources-plugin</td>\n",
       "      <td>3.3.0</td>\n",
       "      <td>31760</td>\n",
       "      <td>2024-03-07 12:44:03.833816</td>\n",
       "      <td>maven-resources-plugin-3.3.0.jar</td>\n",
       "    </tr>\n",
       "    <tr>\n",
       "      <th>1336</th>\n",
       "      <td>org.apache.maven.plugins</td>\n",
       "      <td>maven-compiler-plugin</td>\n",
       "      <td>3.10.1</td>\n",
       "      <td>61899</td>\n",
       "      <td>2024-03-07 12:44:05.852205</td>\n",
       "      <td>maven-compiler-plugin-3.10.1.jar</td>\n",
       "    </tr>\n",
       "    <tr>\n",
       "      <th>...</th>\n",
       "      <td>...</td>\n",
       "      <td>...</td>\n",
       "      <td>...</td>\n",
       "      <td>...</td>\n",
       "      <td>...</td>\n",
       "      <td>...</td>\n",
       "    </tr>\n",
       "    <tr>\n",
       "      <th>2163</th>\n",
       "      <td>org.junit.platform</td>\n",
       "      <td>junit-platform-launcher</td>\n",
       "      <td>1.3.1</td>\n",
       "      <td>94645</td>\n",
       "      <td>2024-08-06 09:08:39.365935</td>\n",
       "      <td>junit-platform-launcher-1.3.1.jar</td>\n",
       "    </tr>\n",
       "    <tr>\n",
       "      <th>1445</th>\n",
       "      <td>org.apache.maven.surefire</td>\n",
       "      <td>surefire-junit-platform</td>\n",
       "      <td>2.22.2</td>\n",
       "      <td>65915</td>\n",
       "      <td>2024-08-06 09:08:39.866519</td>\n",
       "      <td>surefire-junit-platform-2.22.2.jar</td>\n",
       "    </tr>\n",
       "    <tr>\n",
       "      <th>1611</th>\n",
       "      <td>org.apiguardian</td>\n",
       "      <td>apiguardian-api</td>\n",
       "      <td>1.0.0</td>\n",
       "      <td>2164</td>\n",
       "      <td>2024-08-06 09:08:40.663393</td>\n",
       "      <td>apiguardian-api-1.0.0.jar</td>\n",
       "    </tr>\n",
       "    <tr>\n",
       "      <th>2234</th>\n",
       "      <td>org.opentest4j</td>\n",
       "      <td>opentest4j</td>\n",
       "      <td>1.1.1</td>\n",
       "      <td>7121</td>\n",
       "      <td>2024-08-06 09:08:49.388928</td>\n",
       "      <td>opentest4j-1.1.1.jar</td>\n",
       "    </tr>\n",
       "    <tr>\n",
       "      <th>2268</th>\n",
       "      <td>org.rocksdb</td>\n",
       "      <td>rocksdbjni</td>\n",
       "      <td>9.4.0</td>\n",
       "      <td>70111775</td>\n",
       "      <td>2024-08-07 11:15:18.763036</td>\n",
       "      <td>rocksdbjni-9.4.0.jar</td>\n",
       "    </tr>\n",
       "  </tbody>\n",
       "</table>\n",
       "<p>2592 rows × 6 columns</p>\n",
       "</div>"
      ],
      "text/plain": [
       "                          group                 artifact version      size  \\\n",
       "1334   org.apache.maven.plugins       maven-clean-plugin   3.2.0     35678   \n",
       "1416    org.apache.maven.shared       maven-shared-utils   3.3.4    153143   \n",
       "500                  commons-io               commons-io     2.6    214788   \n",
       "1355   org.apache.maven.plugins   maven-resources-plugin   3.3.0     31760   \n",
       "1336   org.apache.maven.plugins    maven-compiler-plugin  3.10.1     61899   \n",
       "...                         ...                      ...     ...       ...   \n",
       "2163         org.junit.platform  junit-platform-launcher   1.3.1     94645   \n",
       "1445  org.apache.maven.surefire  surefire-junit-platform  2.22.2     65915   \n",
       "1611            org.apiguardian          apiguardian-api   1.0.0      2164   \n",
       "2234             org.opentest4j               opentest4j   1.1.1      7121   \n",
       "2268                org.rocksdb               rocksdbjni   9.4.0  70111775   \n",
       "\n",
       "                           ctime                                 jar  \n",
       "1334  2024-03-07 12:43:26.969265        maven-clean-plugin-3.2.0.jar  \n",
       "1416  2024-03-07 12:43:36.989123        maven-shared-utils-3.3.4.jar  \n",
       "500   2024-03-07 12:43:42.467580                  commons-io-2.6.jar  \n",
       "1355  2024-03-07 12:44:03.833816    maven-resources-plugin-3.3.0.jar  \n",
       "1336  2024-03-07 12:44:05.852205    maven-compiler-plugin-3.10.1.jar  \n",
       "...                          ...                                 ...  \n",
       "2163  2024-08-06 09:08:39.365935   junit-platform-launcher-1.3.1.jar  \n",
       "1445  2024-08-06 09:08:39.866519  surefire-junit-platform-2.22.2.jar  \n",
       "1611  2024-08-06 09:08:40.663393           apiguardian-api-1.0.0.jar  \n",
       "2234  2024-08-06 09:08:49.388928                opentest4j-1.1.1.jar  \n",
       "2268  2024-08-07 11:15:18.763036                rocksdbjni-9.4.0.jar  \n",
       "\n",
       "[2592 rows x 6 columns]"
      ]
     },
     "execution_count": 2,
     "metadata": {},
     "output_type": "execute_result"
    }
   ],
   "source": [
    "from pathlib import Path\n",
    "import pandas as pd\n",
    "from datetime import datetime\n",
    "\n",
    "# verify with shell: find . | grep -E 'jar$' | wc -l\n",
    "def list_artifact(starting_directory : str, glob=\"*\") -> list[str]:\n",
    "    poms = []\n",
    "    path_object = Path(starting_directory)\n",
    "    for file_path in path_object.rglob(glob):\n",
    "        if file_path.is_file():\n",
    "            stat = file_path.stat()\n",
    "            p = file_path.as_posix()\n",
    "            if p.find('-sources.jar') != -1: # skip sources\n",
    "                continue\n",
    "            if p.find('SNAPSHOT') != -1 and not p.endswith('-SNAPSHOT.jar'): # skip sources\n",
    "                continue\n",
    "            artifacts = p.removeprefix(starting_directory).split('/')\n",
    "            # print(artifacts)\n",
    "            poms.append({\n",
    "                # 'folder': file_path.parent.as_posix(),\n",
    "                # 'path': artifacts,\n",
    "                'group': '.'.join(artifacts[:-3]),\n",
    "                'artifact':  artifacts[-3],\n",
    "                'version': artifacts[-2],\n",
    "                'size': stat.st_size, # / 1024 / 1024, # MB\n",
    "                'ctime': datetime.fromtimestamp(stat.st_ctime).strftime('%Y-%m-%d %H:%M:%S.%f'),\n",
    "                'jar': artifacts[-1]\n",
    "            })\n",
    "    return poms\n",
    "\n",
    "artifact_home = \"C:/Users/zhouj/.m2/repository/\"\n",
    "artifacts = list_artifact(artifact_home, \"*.jar\")\n",
    "# pd.json_normalize(artifacts)\n",
    "print(len(artifacts))\n",
    "s = pd.json_normalize(artifacts)\n",
    "# s.sort_values(by=['size', 'group', 'artifact'], ascending=False)\n",
    "# s['path.size'].sum()\n",
    "\n",
    "s.sort_values(by=['ctime'], ascending=True)"
   ]
  },
  {
   "cell_type": "markdown",
   "metadata": {},
   "source": [
    "## mapping"
   ]
  },
  {
   "cell_type": "code",
   "execution_count": 12,
   "metadata": {},
   "outputs": [
    {
     "name": "stdout",
     "output_type": "stream",
     "text": [
      "{'acknowledged': True}\n"
     ]
    },
    {
     "data": {
      "text/plain": [
       "{'acknowledged': True, 'shards_acknowledged': True, 'index': 'maven'}"
      ]
     },
     "execution_count": 12,
     "metadata": {},
     "output_type": "execute_result"
    }
   ],
   "source": [
    "INDEX = 'maven'\n",
    "\n",
    "mappings = {\n",
    "  \"properties\": {\n",
    "    \"artifact\": {\n",
    "      \"type\": \"text\",\n",
    "      \"fields\": {\n",
    "        \"keyword\": {\n",
    "          \"type\": \"keyword\",\n",
    "          \"ignore_above\": 256\n",
    "        }\n",
    "      }\n",
    "    },\n",
    "    \"ctime\": { # https://www.elastic.co/guide/en/elasticsearch/reference/7.17/date.html\n",
    "      \"type\": \"date\",\n",
    "       \"format\": \"yyyy-MM-dd HH:mm:ss||yyyy-MM-dd||epoch_millis||yyyy-MM-dd HH:mm:ss.SSSSSS\"\n",
    "    },\n",
    "    \"group\": {\n",
    "      \"type\": \"text\",\n",
    "      \"fields\": {\n",
    "        \"keyword\": {\n",
    "          \"type\": \"keyword\",\n",
    "          \"ignore_above\": 256\n",
    "        }\n",
    "      }\n",
    "    },\n",
    "    \"size\": {\n",
    "      \"type\": \"long\"\n",
    "    },\n",
    "    \"version\": {\n",
    "      \"type\": \"text\",\n",
    "      \"fields\": {\n",
    "        \"keyword\": {\n",
    "          \"type\": \"keyword\",\n",
    "          \"ignore_above\": 256\n",
    "        }\n",
    "      }\n",
    "    },\n",
    "    \"jar\": {\n",
    "      \"type\": \"text\",\n",
    "      \"fields\": {\n",
    "        \"keyword\": {\n",
    "          \"type\": \"keyword\",\n",
    "          \"ignore_above\": 256\n",
    "        }\n",
    "      }\n",
    "    }\n",
    "  }\n",
    "}\n",
    "\n",
    "res = client.indices.delete(index=INDEX) # delete first\n",
    "print(res)\n",
    "client.indices.create(index=INDEX, mappings=mappings)"
   ]
  },
  {
   "cell_type": "markdown",
   "metadata": {},
   "source": [
    "## Looped Index"
   ]
  },
  {
   "cell_type": "code",
   "execution_count": 18,
   "metadata": {},
   "outputs": [],
   "source": [
    "# slow\n",
    "for artifact in artifacts:\n",
    "    _id = artifact['group'] + ':' + artifact['artifact'] + ':' + artifact['version']\n",
    "    client.index(index=INDEX,\n",
    "        id=_id,\n",
    "        document=artifact,)"
   ]
  },
  {
   "cell_type": "markdown",
   "metadata": {},
   "source": [
    "## Bulk Index"
   ]
  },
  {
   "cell_type": "code",
   "execution_count": 25,
   "metadata": {},
   "outputs": [],
   "source": [
    "# help(client.bulk)\n",
    "# from elasticsearch7 import helpers\n",
    "# help(helpers.bulk)"
   ]
  },
  {
   "cell_type": "code",
   "execution_count": 8,
   "metadata": {},
   "outputs": [
    {
     "data": {
      "text/plain": [
       "(2592, 2592)"
      ]
     },
     "execution_count": 8,
     "metadata": {},
     "output_type": "execute_result"
    }
   ],
   "source": [
    "ids = [artifact['jar'][:-4] for artifact in artifacts]\n",
    "len(ids), len(set(ids))"
   ]
  },
  {
   "cell_type": "code",
   "execution_count": 13,
   "metadata": {},
   "outputs": [
    {
     "name": "stdout",
     "output_type": "stream",
     "text": [
      "Progress: 100\n",
      "Progress: 200\n",
      "Progress: 300\n",
      "Progress: 400\n",
      "Progress: 500\n",
      "Progress: 600\n",
      "Progress: 700\n",
      "Progress: 800\n",
      "Progress: 900\n",
      "Progress: 1000\n",
      "Progress: 1100\n",
      "Progress: 1200\n",
      "Progress: 1300\n",
      "Progress: 1400\n",
      "Progress: 1500\n",
      "Progress: 1600\n",
      "Progress: 1700\n",
      "Progress: 1800\n",
      "Progress: 1900\n",
      "Progress: 2000\n",
      "Progress: 2100\n",
      "Progress: 2200\n",
      "Progress: 2300\n",
      "Progress: 2400\n",
      "Progress: 2500\n",
      "Progress: 2591\n",
      "{'took': 22, 'errors': False, 'items': [{'index': {'_index': 'maven', '_type': '_doc', '_id': 'spring-expression-5.3.23', '_version': 1, 'result': 'created', '_shards': {'total': 2, 'successful': 1, 'failed': 0}, '_seq_no': 2501, '_primary_term': 1, 'status': 201}}, {'index': {'_index': 'maven', '_type': '_doc', '_id': 'spring-expression-5.3.31', '_version': 1, 'result': 'created', '_shards': {'total': 2, 'successful': 1, 'failed': 0}, '_seq_no': 2502, '_primary_term': 1, 'status': 201}}, {'index': {'_index': 'maven', '_type': '_doc', '_id': 'spring-expression-6.1.5', '_version': 1, 'result': 'created', '_shards': {'total': 2, 'successful': 1, 'failed': 0}, '_seq_no': 2503, '_primary_term': 1, 'status': 201}}, {'index': {'_index': 'maven', '_type': '_doc', '_id': 'spring-jcl-5.3.1', '_version': 1, 'result': 'created', '_shards': {'total': 2, 'successful': 1, 'failed': 0}, '_seq_no': 2504, '_primary_term': 1, 'status': 201}}, {'index': {'_index': 'maven', '_type': '_doc', '_id': 'spring-jcl-5.3.22', '_version': 1, 'result': 'created', '_shards': {'total': 2, 'successful': 1, 'failed': 0}, '_seq_no': 2505, '_primary_term': 1, 'status': 201}}, {'index': {'_index': 'maven', '_type': '_doc', '_id': 'spring-jcl-5.3.23', '_version': 1, 'result': 'created', '_shards': {'total': 2, 'successful': 1, 'failed': 0}, '_seq_no': 2506, '_primary_term': 1, 'status': 201}}, {'index': {'_index': 'maven', '_type': '_doc', '_id': 'spring-jcl-5.3.31', '_version': 1, 'result': 'created', '_shards': {'total': 2, 'successful': 1, 'failed': 0}, '_seq_no': 2507, '_primary_term': 1, 'status': 201}}, {'index': {'_index': 'maven', '_type': '_doc', '_id': 'spring-jcl-6.1.5', '_version': 1, 'result': 'created', '_shards': {'total': 2, 'successful': 1, 'failed': 0}, '_seq_no': 2508, '_primary_term': 1, 'status': 201}}, {'index': {'_index': 'maven', '_type': '_doc', '_id': 'spring-jdbc-5.3.22', '_version': 1, 'result': 'created', '_shards': {'total': 2, 'successful': 1, 'failed': 0}, '_seq_no': 2509, '_primary_term': 1, 'status': 201}}, {'index': {'_index': 'maven', '_type': '_doc', '_id': 'spring-jdbc-5.3.23', '_version': 1, 'result': 'created', '_shards': {'total': 2, 'successful': 1, 'failed': 0}, '_seq_no': 2510, '_primary_term': 1, 'status': 201}}, {'index': {'_index': 'maven', '_type': '_doc', '_id': 'spring-messaging-5.3.22', '_version': 1, 'result': 'created', '_shards': {'total': 2, 'successful': 1, 'failed': 0}, '_seq_no': 2511, '_primary_term': 1, 'status': 201}}, {'index': {'_index': 'maven', '_type': '_doc', '_id': 'spring-messaging-5.3.23', '_version': 1, 'result': 'created', '_shards': {'total': 2, 'successful': 1, 'failed': 0}, '_seq_no': 2512, '_primary_term': 1, 'status': 201}}, {'index': {'_index': 'maven', '_type': '_doc', '_id': 'spring-oxm-5.3.22', '_version': 1, 'result': 'created', '_shards': {'total': 2, 'successful': 1, 'failed': 0}, '_seq_no': 2513, '_primary_term': 1, 'status': 201}}, {'index': {'_index': 'maven', '_type': '_doc', '_id': 'spring-oxm-5.3.23', '_version': 1, 'result': 'created', '_shards': {'total': 2, 'successful': 1, 'failed': 0}, '_seq_no': 2514, '_primary_term': 1, 'status': 201}}, {'index': {'_index': 'maven', '_type': '_doc', '_id': 'spring-test-5.3.1', '_version': 1, 'result': 'created', '_shards': {'total': 2, 'successful': 1, 'failed': 0}, '_seq_no': 2515, '_primary_term': 1, 'status': 201}}, {'index': {'_index': 'maven', '_type': '_doc', '_id': 'spring-test-5.3.22', '_version': 1, 'result': 'created', '_shards': {'total': 2, 'successful': 1, 'failed': 0}, '_seq_no': 2516, '_primary_term': 1, 'status': 201}}, {'index': {'_index': 'maven', '_type': '_doc', '_id': 'spring-test-5.3.23', '_version': 1, 'result': 'created', '_shards': {'total': 2, 'successful': 1, 'failed': 0}, '_seq_no': 2517, '_primary_term': 1, 'status': 201}}, {'index': {'_index': 'maven', '_type': '_doc', '_id': 'spring-test-5.3.31', '_version': 1, 'result': 'created', '_shards': {'total': 2, 'successful': 1, 'failed': 0}, '_seq_no': 2518, '_primary_term': 1, 'status': 201}}, {'index': {'_index': 'maven', '_type': '_doc', '_id': 'spring-test-6.1.5', '_version': 1, 'result': 'created', '_shards': {'total': 2, 'successful': 1, 'failed': 0}, '_seq_no': 2519, '_primary_term': 1, 'status': 201}}, {'index': {'_index': 'maven', '_type': '_doc', '_id': 'spring-tx-5.3.1', '_version': 1, 'result': 'created', '_shards': {'total': 2, 'successful': 1, 'failed': 0}, '_seq_no': 2520, '_primary_term': 1, 'status': 201}}, {'index': {'_index': 'maven', '_type': '_doc', '_id': 'spring-tx-5.3.22', '_version': 1, 'result': 'created', '_shards': {'total': 2, 'successful': 1, 'failed': 0}, '_seq_no': 2521, '_primary_term': 1, 'status': 201}}, {'index': {'_index': 'maven', '_type': '_doc', '_id': 'spring-tx-5.3.23', '_version': 1, 'result': 'created', '_shards': {'total': 2, 'successful': 1, 'failed': 0}, '_seq_no': 2522, '_primary_term': 1, 'status': 201}}, {'index': {'_index': 'maven', '_type': '_doc', '_id': 'spring-web-5.1.5.RELEASE', '_version': 1, 'result': 'created', '_shards': {'total': 2, 'successful': 1, 'failed': 0}, '_seq_no': 2523, '_primary_term': 1, 'status': 201}}, {'index': {'_index': 'maven', '_type': '_doc', '_id': 'spring-web-5.3.23', '_version': 1, 'result': 'created', '_shards': {'total': 2, 'successful': 1, 'failed': 0}, '_seq_no': 2524, '_primary_term': 1, 'status': 201}}, {'index': {'_index': 'maven', '_type': '_doc', '_id': 'spring-web-5.3.31', '_version': 1, 'result': 'created', '_shards': {'total': 2, 'successful': 1, 'failed': 0}, '_seq_no': 2525, '_primary_term': 1, 'status': 201}}, {'index': {'_index': 'maven', '_type': '_doc', '_id': 'spring-web-6.1.5', '_version': 1, 'result': 'created', '_shards': {'total': 2, 'successful': 1, 'failed': 0}, '_seq_no': 2526, '_primary_term': 1, 'status': 201}}, {'index': {'_index': 'maven', '_type': '_doc', '_id': 'spring-webflux-5.3.23', '_version': 1, 'result': 'created', '_shards': {'total': 2, 'successful': 1, 'failed': 0}, '_seq_no': 2527, '_primary_term': 1, 'status': 201}}, {'index': {'_index': 'maven', '_type': '_doc', '_id': 'spring-webmvc-5.3.22', '_version': 1, 'result': 'created', '_shards': {'total': 2, 'successful': 1, 'failed': 0}, '_seq_no': 2528, '_primary_term': 1, 'status': 201}}, {'index': {'_index': 'maven', '_type': '_doc', '_id': 'spring-webmvc-5.3.23', '_version': 1, 'result': 'created', '_shards': {'total': 2, 'successful': 1, 'failed': 0}, '_seq_no': 2529, '_primary_term': 1, 'status': 201}}, {'index': {'_index': 'maven', '_type': '_doc', '_id': 'spring-webmvc-5.3.31', '_version': 1, 'result': 'created', '_shards': {'total': 2, 'successful': 1, 'failed': 0}, '_seq_no': 2530, '_primary_term': 1, 'status': 201}}, {'index': {'_index': 'maven', '_type': '_doc', '_id': 'spring-webmvc-6.1.5', '_version': 1, 'result': 'created', '_shards': {'total': 2, 'successful': 1, 'failed': 0}, '_seq_no': 2531, '_primary_term': 1, 'status': 201}}, {'index': {'_index': 'maven', '_type': '_doc', '_id': 'threetenbp-1.5.0', '_version': 1, 'result': 'created', '_shards': {'total': 2, 'successful': 1, 'failed': 0}, '_seq_no': 2532, '_primary_term': 1, 'status': 201}}, {'index': {'_index': 'maven', '_type': '_doc', '_id': 'thymeleaf-extras-java8time-3.0.4.RELEASE', '_version': 1, 'result': 'created', '_shards': {'total': 2, 'successful': 1, 'failed': 0}, '_seq_no': 2533, '_primary_term': 1, 'status': 201}}, {'index': {'_index': 'maven', '_type': '_doc', '_id': 'thymeleaf-3.0.15.RELEASE', '_version': 1, 'result': 'created', '_shards': {'total': 2, 'successful': 1, 'failed': 0}, '_seq_no': 2534, '_primary_term': 1, 'status': 201}}, {'index': {'_index': 'maven', '_type': '_doc', '_id': 'thymeleaf-3.1.2.RELEASE', '_version': 1, 'result': 'created', '_shards': {'total': 2, 'successful': 1, 'failed': 0}, '_seq_no': 2535, '_primary_term': 1, 'status': 201}}, {'index': {'_index': 'maven', '_type': '_doc', '_id': 'thymeleaf-spring5-3.0.15.RELEASE', '_version': 1, 'result': 'created', '_shards': {'total': 2, 'successful': 1, 'failed': 0}, '_seq_no': 2536, '_primary_term': 1, 'status': 201}}, {'index': {'_index': 'maven', '_type': '_doc', '_id': 'tomlj-1.0.0', '_version': 1, 'result': 'created', '_shards': {'total': 2, 'successful': 1, 'failed': 0}, '_seq_no': 2537, '_primary_term': 1, 'status': 201}}, {'index': {'_index': 'maven', '_type': '_doc', '_id': 'xz-1.0', '_version': 1, 'result': 'created', '_shards': {'total': 2, 'successful': 1, 'failed': 0}, '_seq_no': 2538, '_primary_term': 1, 'status': 201}}, {'index': {'_index': 'maven', '_type': '_doc', '_id': 'xz-1.5', '_version': 1, 'result': 'created', '_shards': {'total': 2, 'successful': 1, 'failed': 0}, '_seq_no': 2539, '_primary_term': 1, 'status': 201}}, {'index': {'_index': 'maven', '_type': '_doc', '_id': 'xz-1.8', '_version': 1, 'result': 'created', '_shards': {'total': 2, 'successful': 1, 'failed': 0}, '_seq_no': 2540, '_primary_term': 1, 'status': 201}}, {'index': {'_index': 'maven', '_type': '_doc', '_id': 'xz-1.9', '_version': 1, 'result': 'created', '_shards': {'total': 2, 'successful': 1, 'failed': 0}, '_seq_no': 2541, '_primary_term': 1, 'status': 201}}, {'index': {'_index': 'maven', '_type': '_doc', '_id': 'mojo-executor-2.4.0', '_version': 1, 'result': 'created', '_shards': {'total': 2, 'successful': 1, 'failed': 0}, '_seq_no': 2542, '_primary_term': 1, 'status': 201}}, {'index': {'_index': 'maven', '_type': '_doc', '_id': 'unbescape-1.1.6.RELEASE', '_version': 1, 'result': 'created', '_shards': {'total': 2, 'successful': 1, 'failed': 0}, '_seq_no': 2543, '_primary_term': 1, 'status': 201}}, {'index': {'_index': 'maven', '_type': '_doc', '_id': 'jdependency-2.4.0', '_version': 1, 'result': 'created', '_shards': {'total': 2, 'successful': 1, 'failed': 0}, '_seq_no': 2544, '_primary_term': 1, 'status': 201}}, {'index': {'_index': 'maven', '_type': '_doc', '_id': 'wildfly-common-1.7.0.Final', '_version': 1, 'result': 'created', '_shards': {'total': 2, 'successful': 1, 'failed': 0}, '_seq_no': 2545, '_primary_term': 1, 'status': 201}}, {'index': {'_index': 'maven', '_type': '_doc', '_id': 'snappy-java-1.0.4.1', '_version': 1, 'result': 'created', '_shards': {'total': 2, 'successful': 1, 'failed': 0}, '_seq_no': 2546, '_primary_term': 1, 'status': 201}}, {'index': {'_index': 'maven', '_type': '_doc', '_id': 'snappy-java-1.0.5', '_version': 1, 'result': 'created', '_shards': {'total': 2, 'successful': 1, 'failed': 0}, '_seq_no': 2547, '_primary_term': 1, 'status': 201}}, {'index': {'_index': 'maven', '_type': '_doc', '_id': 'snappy-java-1.1.10.5', '_version': 1, 'result': 'created', '_shards': {'total': 2, 'successful': 1, 'failed': 0}, '_seq_no': 2548, '_primary_term': 1, 'status': 201}}, {'index': {'_index': 'maven', '_type': '_doc', '_id': 'snappy-java-1.1.7.3', '_version': 1, 'result': 'created', '_shards': {'total': 2, 'successful': 1, 'failed': 0}, '_seq_no': 2549, '_primary_term': 1, 'status': 201}}, {'index': {'_index': 'maven', '_type': '_doc', '_id': 'snappy-java-1.1.8.1', '_version': 1, 'result': 'created', '_shards': {'total': 2, 'successful': 1, 'failed': 0}, '_seq_no': 2550, '_primary_term': 1, 'status': 201}}, {'index': {'_index': 'maven', '_type': '_doc', '_id': 'snappy-java-1.1.8.4', '_version': 1, 'result': 'created', '_shards': {'total': 2, 'successful': 1, 'failed': 0}, '_seq_no': 2551, '_primary_term': 1, 'status': 201}}, {'index': {'_index': 'maven', '_type': '_doc', '_id': 'xmlunit-core-2.9.0', '_version': 1, 'result': 'created', '_shards': {'total': 2, 'successful': 1, 'failed': 0}, '_seq_no': 2552, '_primary_term': 1, 'status': 201}}, {'index': {'_index': 'maven', '_type': '_doc', '_id': 'xmlunit-core-2.9.1', '_version': 1, 'result': 'created', '_shards': {'total': 2, 'successful': 1, 'failed': 0}, '_seq_no': 2553, '_primary_term': 1, 'status': 201}}, {'index': {'_index': 'maven', '_type': '_doc', '_id': 'snakeyaml-1.24', '_version': 1, 'result': 'created', '_shards': {'total': 2, 'successful': 1, 'failed': 0}, '_seq_no': 2554, '_primary_term': 1, 'status': 201}}, {'index': {'_index': 'maven', '_type': '_doc', '_id': 'snakeyaml-1.29', '_version': 1, 'result': 'created', '_shards': {'total': 2, 'successful': 1, 'failed': 0}, '_seq_no': 2555, '_primary_term': 1, 'status': 201}}, {'index': {'_index': 'maven', '_type': '_doc', '_id': 'snakeyaml-1.30', '_version': 1, 'result': 'created', '_shards': {'total': 2, 'successful': 1, 'failed': 0}, '_seq_no': 2556, '_primary_term': 1, 'status': 201}}, {'index': {'_index': 'maven', '_type': '_doc', '_id': 'snakeyaml-1.33', '_version': 1, 'result': 'created', '_shards': {'total': 2, 'successful': 1, 'failed': 0}, '_seq_no': 2557, '_primary_term': 1, 'status': 201}}, {'index': {'_index': 'maven', '_type': '_doc', '_id': 'snakeyaml-2.2', '_version': 1, 'result': 'created', '_shards': {'total': 2, 'successful': 1, 'failed': 0}, '_seq_no': 2558, '_primary_term': 1, 'status': 201}}, {'index': {'_index': 'maven', '_type': '_doc', '_id': 'oro-2.0.8', '_version': 1, 'result': 'created', '_shards': {'total': 2, 'successful': 1, 'failed': 0}, '_seq_no': 2559, '_primary_term': 1, 'status': 201}}, {'index': {'_index': 'maven', '_type': '_doc', '_id': 'jedis-3.8.0', '_version': 1, 'result': 'created', '_shards': {'total': 2, 'successful': 1, 'failed': 0}, '_seq_no': 2560, '_primary_term': 1, 'status': 201}}, {'index': {'_index': 'maven', '_type': '_doc', '_id': 'annotations-2.16.1', '_version': 1, 'result': 'created', '_shards': {'total': 2, 'successful': 1, 'failed': 0}, '_seq_no': 2561, '_primary_term': 1, 'status': 201}}, {'index': {'_index': 'maven', '_type': '_doc', '_id': 'apache-client-2.16.1', '_version': 1, 'result': 'created', '_shards': {'total': 2, 'successful': 1, 'failed': 0}, '_seq_no': 2562, '_primary_term': 1, 'status': 201}}, {'index': {'_index': 'maven', '_type': '_doc', '_id': 'arns-2.16.1', '_version': 1, 'result': 'created', '_shards': {'total': 2, 'successful': 1, 'failed': 0}, '_seq_no': 2563, '_primary_term': 1, 'status': 201}}, {'index': {'_index': 'maven', '_type': '_doc', '_id': 'auth-2.16.1', '_version': 1, 'result': 'created', '_shards': {'total': 2, 'successful': 1, 'failed': 0}, '_seq_no': 2564, '_primary_term': 1, 'status': 201}}, {'index': {'_index': 'maven', '_type': '_doc', '_id': 'aws-core-2.16.1', '_version': 1, 'result': 'created', '_shards': {'total': 2, 'successful': 1, 'failed': 0}, '_seq_no': 2565, '_primary_term': 1, 'status': 201}}, {'index': {'_index': 'maven', '_type': '_doc', '_id': 'aws-json-protocol-2.16.1', '_version': 1, 'result': 'created', '_shards': {'total': 2, 'successful': 1, 'failed': 0}, '_seq_no': 2566, '_primary_term': 1, 'status': 201}}, {'index': {'_index': 'maven', '_type': '_doc', '_id': 'aws-query-protocol-2.16.1', '_version': 1, 'result': 'created', '_shards': {'total': 2, 'successful': 1, 'failed': 0}, '_seq_no': 2567, '_primary_term': 1, 'status': 201}}, {'index': {'_index': 'maven', '_type': '_doc', '_id': 'aws-xml-protocol-2.16.1', '_version': 1, 'result': 'created', '_shards': {'total': 2, 'successful': 1, 'failed': 0}, '_seq_no': 2568, '_primary_term': 1, 'status': 201}}, {'index': {'_index': 'maven', '_type': '_doc', '_id': 'aws-crt-0.15.8', '_version': 1, 'result': 'created', '_shards': {'total': 2, 'successful': 1, 'failed': 0}, '_seq_no': 2569, '_primary_term': 1, 'status': 201}}, {'index': {'_index': 'maven', '_type': '_doc', '_id': 'http-client-spi-2.16.1', '_version': 1, 'result': 'created', '_shards': {'total': 2, 'successful': 1, 'failed': 0}, '_seq_no': 2570, '_primary_term': 1, 'status': 201}}, {'index': {'_index': 'maven', '_type': '_doc', '_id': 'iam-2.16.1', '_version': 1, 'result': 'created', '_shards': {'total': 2, 'successful': 1, 'failed': 0}, '_seq_no': 2571, '_primary_term': 1, 'status': 201}}, {'index': {'_index': 'maven', '_type': '_doc', '_id': 'kms-2.16.1', '_version': 1, 'result': 'created', '_shards': {'total': 2, 'successful': 1, 'failed': 0}, '_seq_no': 2572, '_primary_term': 1, 'status': 201}}, {'index': {'_index': 'maven', '_type': '_doc', '_id': 'metrics-spi-2.16.1', '_version': 1, 'result': 'created', '_shards': {'total': 2, 'successful': 1, 'failed': 0}, '_seq_no': 2573, '_primary_term': 1, 'status': 201}}, {'index': {'_index': 'maven', '_type': '_doc', '_id': 'netty-nio-client-2.16.1', '_version': 1, 'result': 'created', '_shards': {'total': 2, 'successful': 1, 'failed': 0}, '_seq_no': 2574, '_primary_term': 1, 'status': 201}}, {'index': {'_index': 'maven', '_type': '_doc', '_id': 'profiles-2.16.1', '_version': 1, 'result': 'created', '_shards': {'total': 2, 'successful': 1, 'failed': 0}, '_seq_no': 2575, '_primary_term': 1, 'status': 201}}, {'index': {'_index': 'maven', '_type': '_doc', '_id': 'protocol-core-2.16.1', '_version': 1, 'result': 'created', '_shards': {'total': 2, 'successful': 1, 'failed': 0}, '_seq_no': 2576, '_primary_term': 1, 'status': 201}}, {'index': {'_index': 'maven', '_type': '_doc', '_id': 'regions-2.16.1', '_version': 1, 'result': 'created', '_shards': {'total': 2, 'successful': 1, 'failed': 0}, '_seq_no': 2577, '_primary_term': 1, 'status': 201}}, {'index': {'_index': 'maven', '_type': '_doc', '_id': 's3-2.16.1', '_version': 1, 'result': 'created', '_shards': {'total': 2, 'successful': 1, 'failed': 0}, '_seq_no': 2578, '_primary_term': 1, 'status': 201}}, {'index': {'_index': 'maven', '_type': '_doc', '_id': 's3-transfer-manager-2.17.103-PREVIEW', '_version': 1, 'result': 'created', '_shards': {'total': 2, 'successful': 1, 'failed': 0}, '_seq_no': 2579, '_primary_term': 1, 'status': 201}}, {'index': {'_index': 'maven', '_type': '_doc', '_id': 's3control-2.16.1', '_version': 1, 'result': 'created', '_shards': {'total': 2, 'successful': 1, 'failed': 0}, '_seq_no': 2580, '_primary_term': 1, 'status': 201}}, {'index': {'_index': 'maven', '_type': '_doc', '_id': 'sdk-core-2.16.1', '_version': 1, 'result': 'created', '_shards': {'total': 2, 'successful': 1, 'failed': 0}, '_seq_no': 2581, '_primary_term': 1, 'status': 201}}, {'index': {'_index': 'maven', '_type': '_doc', '_id': 'sts-2.16.1', '_version': 1, 'result': 'created', '_shards': {'total': 2, 'successful': 1, 'failed': 0}, '_seq_no': 2582, '_primary_term': 1, 'status': 201}}, {'index': {'_index': 'maven', '_type': '_doc', '_id': 'utils-2.16.1', '_version': 1, 'result': 'created', '_shards': {'total': 2, 'successful': 1, 'failed': 0}, '_seq_no': 2583, '_primary_term': 1, 'status': 201}}, {'index': {'_index': 'maven', '_type': '_doc', '_id': 'eventstream-1.0.1', '_version': 1, 'result': 'created', '_shards': {'total': 2, 'successful': 1, 'failed': 0}, '_seq_no': 2584, '_primary_term': 1, 'status': 201}}, {'index': {'_index': 'maven', '_type': '_doc', '_id': 'ion-java-1.0.2', '_version': 1, 'result': 'created', '_shards': {'total': 2, 'successful': 1, 'failed': 0}, '_seq_no': 2585, '_primary_term': 1, 'status': 201}}, {'index': {'_index': 'maven', '_type': '_doc', '_id': 'jasper-compiler-5.5.23', '_version': 1, 'result': 'created', '_shards': {'total': 2, 'successful': 1, 'failed': 0}, '_seq_no': 2586, '_primary_term': 1, 'status': 201}}, {'index': {'_index': 'maven', '_type': '_doc', '_id': 'jasper-runtime-5.5.23', '_version': 1, 'result': 'created', '_shards': {'total': 2, 'successful': 1, 'failed': 0}, '_seq_no': 2587, '_primary_term': 1, 'status': 201}}, {'index': {'_index': 'maven', '_type': '_doc', '_id': 'xercesImpl-2.9.1', '_version': 1, 'result': 'created', '_shards': {'total': 2, 'successful': 1, 'failed': 0}, '_seq_no': 2588, '_primary_term': 1, 'status': 201}}, {'index': {'_index': 'maven', '_type': '_doc', '_id': 'xml-apis-1.3.04', '_version': 1, 'result': 'created', '_shards': {'total': 2, 'successful': 1, 'failed': 0}, '_seq_no': 2589, '_primary_term': 1, 'status': 201}}, {'index': {'_index': 'maven', '_type': '_doc', '_id': 'xmlenc-0.52', '_version': 1, 'result': 'created', '_shards': {'total': 2, 'successful': 1, 'failed': 0}, '_seq_no': 2590, '_primary_term': 1, 'status': 201}}, {'index': {'_index': 'maven', '_type': '_doc', '_id': 'xmlpull-1.1.3.1', '_version': 1, 'result': 'created', '_shards': {'total': 2, 'successful': 1, 'failed': 0}, '_seq_no': 2591, '_primary_term': 1, 'status': 201}}]}\n"
     ]
    }
   ],
   "source": [
    "_body = \"\"\n",
    "for i in range(len(artifacts)):\n",
    "    _id = artifacts[i]['jar'][:-4]\n",
    "    _body  = _body + \"\"\"\n",
    "{action}\n",
    "{doc}\"\"\".format(action=json.dumps({'index': {\"_id\" : _id, \"_index\": INDEX}}), doc=json.dumps(artifacts[i]))\n",
    "    \n",
    "    if i > 0 and i % 100 == 0:\n",
    "        print(f\"Progress: {i}\")\n",
    "        res = client.bulk(index=INDEX, body=_body)\n",
    "        # print(res)\n",
    "        _body = \"\"\n",
    "        \n",
    "\n",
    "if len(_body) > 0:\n",
    "    print(f\"Progress: {i}\")\n",
    "    res = client.bulk(index=INDEX, body=_body)\n",
    "    # print(res)"
   ]
  },
  {
   "cell_type": "code",
   "execution_count": 14,
   "metadata": {},
   "outputs": [
    {
     "name": "stdout",
     "output_type": "stream",
     "text": [
      "{'took': 1, 'timed_out': False, '_shards': {'total': 1, 'successful': 1, 'skipped': 0, 'failed': 0}, 'hits': {'total': {'value': 2, 'relation': 'eq'}, 'max_score': 7.0919447, 'hits': [{'_index': 'maven', '_type': '_doc', '_id': 'rocksdbjni-7.0.3', '_score': 7.0919447, '_source': {'group': 'org.rocksdb', 'artifact': 'rocksdbjni', 'version': '7.0.3', 'size': 54269203, 'ctime': '2024-04-10 10:55:52.766078', 'jar': 'rocksdbjni-7.0.3.jar'}}, {'_index': 'maven', '_type': '_doc', '_id': 'rocksdbjni-9.4.0', '_score': 7.0919447, '_source': {'group': 'org.rocksdb', 'artifact': 'rocksdbjni', 'version': '9.4.0', 'size': 70111775, 'ctime': '2024-08-07 11:15:18.763036', 'jar': 'rocksdbjni-9.4.0.jar'}}]}}\n"
     ]
    },
    {
     "data": {
      "text/html": [
       "<div>\n",
       "<style scoped>\n",
       "    .dataframe tbody tr th:only-of-type {\n",
       "        vertical-align: middle;\n",
       "    }\n",
       "\n",
       "    .dataframe tbody tr th {\n",
       "        vertical-align: top;\n",
       "    }\n",
       "\n",
       "    .dataframe thead th {\n",
       "        text-align: right;\n",
       "    }\n",
       "</style>\n",
       "<table border=\"1\" class=\"dataframe\">\n",
       "  <thead>\n",
       "    <tr style=\"text-align: right;\">\n",
       "      <th></th>\n",
       "      <th>_index</th>\n",
       "      <th>_type</th>\n",
       "      <th>_id</th>\n",
       "      <th>_score</th>\n",
       "      <th>_source.group</th>\n",
       "      <th>_source.artifact</th>\n",
       "      <th>_source.version</th>\n",
       "      <th>_source.size</th>\n",
       "      <th>_source.ctime</th>\n",
       "      <th>_source.jar</th>\n",
       "    </tr>\n",
       "  </thead>\n",
       "  <tbody>\n",
       "    <tr>\n",
       "      <th>0</th>\n",
       "      <td>maven</td>\n",
       "      <td>_doc</td>\n",
       "      <td>rocksdbjni-7.0.3</td>\n",
       "      <td>7.091945</td>\n",
       "      <td>org.rocksdb</td>\n",
       "      <td>rocksdbjni</td>\n",
       "      <td>7.0.3</td>\n",
       "      <td>54269203</td>\n",
       "      <td>2024-04-10 10:55:52.766078</td>\n",
       "      <td>rocksdbjni-7.0.3.jar</td>\n",
       "    </tr>\n",
       "    <tr>\n",
       "      <th>1</th>\n",
       "      <td>maven</td>\n",
       "      <td>_doc</td>\n",
       "      <td>rocksdbjni-9.4.0</td>\n",
       "      <td>7.091945</td>\n",
       "      <td>org.rocksdb</td>\n",
       "      <td>rocksdbjni</td>\n",
       "      <td>9.4.0</td>\n",
       "      <td>70111775</td>\n",
       "      <td>2024-08-07 11:15:18.763036</td>\n",
       "      <td>rocksdbjni-9.4.0.jar</td>\n",
       "    </tr>\n",
       "  </tbody>\n",
       "</table>\n",
       "</div>"
      ],
      "text/plain": [
       "  _index _type               _id    _score _source.group _source.artifact  \\\n",
       "0  maven  _doc  rocksdbjni-7.0.3  7.091945   org.rocksdb       rocksdbjni   \n",
       "1  maven  _doc  rocksdbjni-9.4.0  7.091945   org.rocksdb       rocksdbjni   \n",
       "\n",
       "  _source.version  _source.size               _source.ctime  \\\n",
       "0           7.0.3      54269203  2024-04-10 10:55:52.766078   \n",
       "1           9.4.0      70111775  2024-08-07 11:15:18.763036   \n",
       "\n",
       "            _source.jar  \n",
       "0  rocksdbjni-7.0.3.jar  \n",
       "1  rocksdbjni-9.4.0.jar  "
      ]
     },
     "execution_count": 14,
     "metadata": {},
     "output_type": "execute_result"
    }
   ],
   "source": [
    "res = client.search(index=\"maven\", query={\"match\": {\"group\": {\"query\": \"org.rocksdb\"}}})\n",
    "print(res)\n",
    "pd.json_normalize(res['hits']['hits'])"
   ]
  },
  {
   "cell_type": "markdown",
   "metadata": {},
   "source": [
    "## SQL"
   ]
  },
  {
   "cell_type": "code",
   "execution_count": 21,
   "metadata": {},
   "outputs": [
    {
     "name": "stdout",
     "output_type": "stream",
     "text": [
      "           group            |           artifact            |    version    |       c       \n",
      "----------------------------+-------------------------------+---------------+---------------\n",
      "org.bytedeco                |javacpp                        |1.5.6          |16             \n",
      "org.bytedeco                |artoolkitplus                  |2.3.1-1.5.9    |13             \n",
      "org.bytedeco                |ffmpeg                         |4.4-1.5.6      |13             \n",
      "org.bytedeco.javacpp-presets|ffmpeg                         |4.0.2-1.4.3    |12             \n",
      "org.bytedeco                |javacpp                        |1.5.10         |11             \n",
      "org.bytedeco                |openblas                       |0.3.26-1.5.10  |11             \n",
      "org.bytedeco                |opencv                         |4.9.0-1.5.10   |11             \n",
      "org.bytedeco                |ffmpeg                         |6.1.1-1.5.10   |9              \n",
      "org.bytedeco                |leptonica                      |1.84.1-1.5.10  |9              \n",
      "org.bytedeco                |libdc1394                      |2.2.6-1.5.9    |9              \n",
      "org.bytedeco                |libfreenect                    |0.5.7-1.5.9    |9              \n",
      "org.bytedeco                |tesseract                      |5.3.4-1.5.10   |9              \n",
      "org.bytedeco                |librealsense                   |1.12.4-1.5.9   |8              \n",
      "org.bytedeco                |librealsense2                  |2.53.1-1.5.9   |8              \n",
      "org.bytedeco                |flycapture                     |2.13.3.31-1.5.9|7              \n",
      "org.bytedeco                |libfreenect2                   |0.2.0-1.5.9    |5              \n",
      "io.netty                    |netty-transport-native-epoll   |4.1.79.Final   |3              \n",
      "io.netty                    |netty-transport-native-epoll   |4.1.84.Final   |3              \n",
      "org.bytedeco                |videoinput                     |0.200-1.5.9    |3              \n",
      "io.netty                    |netty-resolver-dns-native-macos|4.1.79.Final   |2              \n",
      "io.netty                    |netty-resolver-dns-native-macos|4.1.84.Final   |2              \n",
      "io.netty                    |netty-transport-native-kqueue  |4.1.79.Final   |2              \n",
      "io.netty                    |netty-transport-native-kqueue  |4.1.84.Final   |2              \n",
      "org.openjfx                 |javafx-base                    |17             |2              \n",
      "org.openjfx                 |javafx-graphics                |17             |2              \n",
      "\n"
     ]
    }
   ],
   "source": [
    "# help(client)\n",
    "res = client.sql.query(body={\n",
    "  'query': \"\"\"SELECT \"group\", artifact, version, COUNT(*) as c\n",
    "  FROM maven\n",
    "  GROUP BY \"group\", artifact, version\n",
    "  HAVING c > 1\n",
    "  ORDER BY c DESC\"\"\"\n",
    "}, format='txt')\n",
    "print(res)"
   ]
  }
 ],
 "metadata": {
  "kernelspec": {
   "display_name": "Python 3 (ipykernel)",
   "language": "python",
   "name": "python3"
  },
  "language_info": {
   "codemirror_mode": {
    "name": "ipython",
    "version": 3
   },
   "file_extension": ".py",
   "mimetype": "text/x-python",
   "name": "python",
   "nbconvert_exporter": "python",
   "pygments_lexer": "ipython3",
   "version": "3.11.5"
  }
 },
 "nbformat": 4,
 "nbformat_minor": 4
}
